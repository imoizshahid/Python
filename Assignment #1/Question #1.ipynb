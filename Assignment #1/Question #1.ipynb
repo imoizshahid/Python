{
 "cells": [
  {
   "cell_type": "code",
   "execution_count": 4,
   "id": "6f81c29a",
   "metadata": {},
   "outputs": [
    {
     "name": "stdout",
     "output_type": "stream",
     "text": [
      "Twinkle, twinkle, little star,\n",
      "         How I wonder what you are!\n",
      "                 Up above the world so high,\n",
      "                 Like a diamond in the sky.,\n",
      "Twinkle, twinkle, little star,\n",
      "         How I wonder what you are!\n"
     ]
    }
   ],
   "source": [
    "print (\"Twinkle, twinkle, little star,\");\n",
    "print (\"         How I wonder what you are!\");\n",
    "print (\"                 Up above the world so high,\");\n",
    "print (\"                 Like a diamond in the sky.,\");\n",
    "print (\"Twinkle, twinkle, little star,\");\n",
    "print (\"         How I wonder what you are!\");"
   ]
  },
  {
   "cell_type": "code",
   "execution_count": null,
   "id": "0a5ae87e",
   "metadata": {},
   "outputs": [],
   "source": []
  }
 ],
 "metadata": {
  "kernelspec": {
   "display_name": "Python 3 (ipykernel)",
   "language": "python",
   "name": "python3"
  },
  "language_info": {
   "codemirror_mode": {
    "name": "ipython",
    "version": 3
   },
   "file_extension": ".py",
   "mimetype": "text/x-python",
   "name": "python",
   "nbconvert_exporter": "python",
   "pygments_lexer": "ipython3",
   "version": "3.9.7"
  }
 },
 "nbformat": 4,
 "nbformat_minor": 5
}
