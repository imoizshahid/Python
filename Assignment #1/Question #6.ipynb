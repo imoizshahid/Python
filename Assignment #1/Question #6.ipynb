{
 "cells": [
  {
   "cell_type": "code",
   "execution_count": 12,
   "id": "b0013c17",
   "metadata": {},
   "outputs": [
    {
     "name": "stdout",
     "output_type": "stream",
     "text": [
      "Enter First Number = 51\n",
      "Enter Second Number = 49\n",
      " \n",
      "The Sum Of These Number Is = 100\n"
     ]
    }
   ],
   "source": [
    "#Question 6\n",
    "\n",
    "\n",
    "a = int(input(\"Enter First Number = \"))\n",
    "b = int(input(\"Enter Second Number = \"))\n",
    "c = a+b\n",
    "print(\" \")\n",
    "print(\"The Sum Of These Number Is = \" + str(c))"
   ]
  },
  {
   "cell_type": "code",
   "execution_count": null,
   "id": "577080c7",
   "metadata": {},
   "outputs": [],
   "source": []
  }
 ],
 "metadata": {
  "kernelspec": {
   "display_name": "Python 3 (ipykernel)",
   "language": "python",
   "name": "python3"
  },
  "language_info": {
   "codemirror_mode": {
    "name": "ipython",
    "version": 3
   },
   "file_extension": ".py",
   "mimetype": "text/x-python",
   "name": "python",
   "nbconvert_exporter": "python",
   "pygments_lexer": "ipython3",
   "version": "3.9.7"
  }
 },
 "nbformat": 4,
 "nbformat_minor": 5
}
