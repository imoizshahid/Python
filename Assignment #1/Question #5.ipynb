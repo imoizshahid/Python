{
 "cells": [
  {
   "cell_type": "code",
   "execution_count": 1,
   "id": "043ab014",
   "metadata": {},
   "outputs": [
    {
     "name": "stdout",
     "output_type": "stream",
     "text": [
      "Enter Your First Name = Moiz\n",
      "Enter Your Last Name = Shahid\n",
      " \n",
      "Your Name In Reverse Order Is = Shahid Moiz\n"
     ]
    }
   ],
   "source": [
    "#Question 5\n",
    "\n",
    "fname=input(\"Enter Your First Name = \");\n",
    "lname=input(\"Enter Your Last Name = \");\n",
    "print(\" \")\n",
    "print(\"Your Name In Reverse Order Is = \" + lname + \" \" + fname);"
   ]
  },
  {
   "cell_type": "code",
   "execution_count": null,
   "id": "ed58b756",
   "metadata": {},
   "outputs": [],
   "source": []
  }
 ],
 "metadata": {
  "kernelspec": {
   "display_name": "Python 3 (ipykernel)",
   "language": "python",
   "name": "python3"
  },
  "language_info": {
   "codemirror_mode": {
    "name": "ipython",
    "version": 3
   },
   "file_extension": ".py",
   "mimetype": "text/x-python",
   "name": "python",
   "nbconvert_exporter": "python",
   "pygments_lexer": "ipython3",
   "version": "3.9.7"
  }
 },
 "nbformat": 4,
 "nbformat_minor": 5
}
